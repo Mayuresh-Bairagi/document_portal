{
 "cells": [
  {
   "cell_type": "code",
   "execution_count": 1,
   "id": "6ab4ebea",
   "metadata": {},
   "outputs": [
    {
     "name": "stdout",
     "output_type": "stream",
     "text": [
      "Check Ok !!\n"
     ]
    }
   ],
   "source": [
    "print(\"Check Ok !!\")"
   ]
  },
  {
   "cell_type": "code",
   "execution_count": 5,
   "id": "6f4232ba",
   "metadata": {},
   "outputs": [],
   "source": [
    "import sys \n",
    "import traceback\n",
    "from logger.customlogger import CustomLogger"
   ]
  },
  {
   "cell_type": "code",
   "execution_count": 6,
   "id": "7853f2c2",
   "metadata": {},
   "outputs": [],
   "source": [
    "class DocumentPortalException(Exception):\n",
    "    def __init__(self,error_message,error_details:sys):\n",
    "        _,_,exc_tb = error_details.exc_info()\n",
    "        self.file_name = exc_tb.tb_frame.f_code.co_filename\n",
    "        self.lineno = exc_tb.tb_lineno\n",
    "        self.error_message = str(error_message)\n",
    "        self.traceback_str = ''.join(traceback.format_exception(*error_details.exc_info()))\n",
    "\n",
    "    def __str__(self):\n",
    "        return f\"\"\"Error in [{self.file_name}] at line [{self.lineno}]\\nMessage:{self.error_message}\\Traceback:{self.traceback_str}\"\"\"\n"
   ]
  },
  {
   "cell_type": "code",
   "execution_count": 7,
   "id": "3b3188f3",
   "metadata": {},
   "outputs": [
    {
     "ename": "DocumentPortalException",
     "evalue": "Error in [C:\\Users\\mayur\\AppData\\Local\\Temp\\ipykernel_20432\\385823998.py] at line [3]\nMessage:division by zero\\Traceback:Traceback (most recent call last):\n  File \"C:\\Users\\mayur\\AppData\\Local\\Temp\\ipykernel_20432\\385823998.py\", line 3, in <module>\n    a = 1 / 0\nZeroDivisionError: division by zero\n",
     "output_type": "error",
     "traceback": [
      "\u001b[1;31m---------------------------------------------------------------------------\u001b[0m",
      "\u001b[1;31mZeroDivisionError\u001b[0m                         Traceback (most recent call last)",
      "Cell \u001b[1;32mIn[7], line 3\u001b[0m\n\u001b[0;32m      2\u001b[0m \u001b[38;5;28;01mtry\u001b[39;00m :\n\u001b[1;32m----> 3\u001b[0m     a \u001b[38;5;241m=\u001b[39m \u001b[38;5;241;43m1\u001b[39;49m\u001b[43m \u001b[49m\u001b[38;5;241;43m/\u001b[39;49m\u001b[43m \u001b[49m\u001b[38;5;241;43m0\u001b[39;49m\n\u001b[0;32m      4\u001b[0m     \u001b[38;5;28mprint\u001b[39m(a)\n",
      "\u001b[1;31mZeroDivisionError\u001b[0m: division by zero",
      "\nDuring handling of the above exception, another exception occurred:\n",
      "\u001b[1;31mDocumentPortalException\u001b[0m                   Traceback (most recent call last)",
      "Cell \u001b[1;32mIn[7], line 10\u001b[0m\n\u001b[0;32m      8\u001b[0m logger \u001b[38;5;241m=\u001b[39m logger\u001b[38;5;241m.\u001b[39mget_logger()\n\u001b[0;32m      9\u001b[0m logger\u001b[38;5;241m.\u001b[39merror(app_exc)\n\u001b[1;32m---> 10\u001b[0m \u001b[38;5;28;01mraise\u001b[39;00m app_exc\n",
      "\u001b[1;31mDocumentPortalException\u001b[0m: Error in [C:\\Users\\mayur\\AppData\\Local\\Temp\\ipykernel_20432\\385823998.py] at line [3]\nMessage:division by zero\\Traceback:Traceback (most recent call last):\n  File \"C:\\Users\\mayur\\AppData\\Local\\Temp\\ipykernel_20432\\385823998.py\", line 3, in <module>\n    a = 1 / 0\nZeroDivisionError: division by zero\n"
     ]
    }
   ],
   "source": [
    "if __name__ ==  \"__main__\":\n",
    "    try :\n",
    "        a = 1 / 0\n",
    "        print(a)\n",
    "    except Exception as e :\n",
    "        app_exc = DocumentPortalException(e,sys)\n",
    "        logger = CustomLogger()\n",
    "        logger = logger.get_logger()\n",
    "        logger.error(app_exc)\n",
    "        raise app_exc\n"
   ]
  },
  {
   "cell_type": "code",
   "execution_count": 2,
   "id": "013ad690",
   "metadata": {},
   "outputs": [],
   "source": [
    "from logger.customlogger import CustomLogger"
   ]
  },
  {
   "cell_type": "code",
   "execution_count": null,
   "id": "5bef4675",
   "metadata": {},
   "outputs": [],
   "source": [
    "logger = CustomLogger()\n",
    "logger=logger.get_logger(\"Experiment_\")\n"
   ]
  },
  {
   "cell_type": "code",
   "execution_count": 1,
   "id": "e377853e",
   "metadata": {},
   "outputs": [],
   "source": [
    "from model.model import SummaryResponse,PromptType"
   ]
  },
  {
   "cell_type": "code",
   "execution_count": 3,
   "id": "9b80c0d7",
   "metadata": {},
   "outputs": [
    {
     "data": {
      "text/plain": [
       "'document_comparison'"
      ]
     },
     "execution_count": 3,
     "metadata": {},
     "output_type": "execute_result"
    }
   ],
   "source": [
    "PromptType.DOCUMENT_COMAPRISON.value"
   ]
  },
  {
   "cell_type": "code",
   "execution_count": null,
   "id": "eb28ab0b",
   "metadata": {},
   "outputs": [],
   "source": []
  },
  {
   "cell_type": "code",
   "execution_count": null,
   "id": "35da77df",
   "metadata": {},
   "outputs": [],
   "source": []
  }
 ],
 "metadata": {
  "kernelspec": {
   "display_name": "Python 3",
   "language": "python",
   "name": "python3"
  },
  "language_info": {
   "codemirror_mode": {
    "name": "ipython",
    "version": 3
   },
   "file_extension": ".py",
   "mimetype": "text/x-python",
   "name": "python",
   "nbconvert_exporter": "python",
   "pygments_lexer": "ipython3",
   "version": "3.10.18"
  }
 },
 "nbformat": 4,
 "nbformat_minor": 5
}
