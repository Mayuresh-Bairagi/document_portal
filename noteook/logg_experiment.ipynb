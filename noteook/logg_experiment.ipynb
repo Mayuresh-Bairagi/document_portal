{
 "cells": [
  {
   "cell_type": "code",
   "execution_count": 1,
   "id": "1a84d474",
   "metadata": {},
   "outputs": [],
   "source": [
    "import logging\n",
    "import os\n",
    "from datetime import datetime"
   ]
  },
  {
   "cell_type": "code",
   "execution_count": 2,
   "id": "9c79ca7c",
   "metadata": {},
   "outputs": [],
   "source": [
    "log_path = os.path.join(os.getcwd(), 'logs')"
   ]
  },
  {
   "cell_type": "code",
   "execution_count": 3,
   "id": "983b8bf1",
   "metadata": {},
   "outputs": [],
   "source": [
    "os.makedirs(log_path, exist_ok=True)"
   ]
  },
  {
   "cell_type": "code",
   "execution_count": 4,
   "id": "97ce918e",
   "metadata": {},
   "outputs": [],
   "source": [
    "log_file = os.path.join(log_path, f\"{datetime.now().strftime('%Y_%m_%d__%H_%M_%S')}.log\")"
   ]
  },
  {
   "cell_type": "code",
   "execution_count": 5,
   "id": "5f3b259c",
   "metadata": {},
   "outputs": [
    {
     "data": {
      "text/plain": [
       "'d:\\\\College\\\\LLMOPS\\\\document_portal\\\\noteook\\\\logs\\\\2025_07_29__21_00_01.log'"
      ]
     },
     "execution_count": 5,
     "metadata": {},
     "output_type": "execute_result"
    }
   ],
   "source": [
    "log_file"
   ]
  },
  {
   "cell_type": "code",
   "execution_count": 6,
   "id": "e1c09702",
   "metadata": {},
   "outputs": [],
   "source": [
    "logging.basicConfig(\n",
    "    filename = log_file,\n",
    "    format = \"[ %(asctime)s] %(levelname)s  %(name)s (line:%(lineno)d) - %(message)s\",\n",
    "    level=logging.INFO\n",
    ") "
   ]
  },
  {
   "cell_type": "code",
   "execution_count": 7,
   "id": "378d4ef9",
   "metadata": {},
   "outputs": [],
   "source": [
    "logger = logging.getLogger(\"DocumentPortal\")"
   ]
  },
  {
   "cell_type": "code",
   "execution_count": 8,
   "id": "d8225a47",
   "metadata": {},
   "outputs": [],
   "source": [
    "logger.info(\"this is an info message\")"
   ]
  },
  {
   "cell_type": "code",
   "execution_count": 2,
   "id": "b0c3747f",
   "metadata": {},
   "outputs": [
    {
     "data": {
      "text/plain": [
       "'07_30_2025__10_49_43'"
      ]
     },
     "execution_count": 2,
     "metadata": {},
     "output_type": "execute_result"
    }
   ],
   "source": [
    "from datetime import datetime\n",
    "datetime.now().strftime('%m_%d_%Y__%H_%M_%S')"
   ]
  },
  {
   "cell_type": "code",
   "execution_count": 16,
   "id": "59884bc7",
   "metadata": {},
   "outputs": [],
   "source": [
    "from logger.customlogger import CustomLogger"
   ]
  },
  {
   "cell_type": "code",
   "execution_count": 17,
   "id": "3af74057",
   "metadata": {},
   "outputs": [],
   "source": [
    "logger = CustomLogger().get_logger(\"ready\")"
   ]
  },
  {
   "cell_type": "code",
   "execution_count": 18,
   "id": "437d19a3",
   "metadata": {},
   "outputs": [],
   "source": [
    "logger.info(\"This is info message\")"
   ]
  },
  {
   "cell_type": "code",
   "execution_count": 19,
   "id": "5111ea96",
   "metadata": {},
   "outputs": [],
   "source": [
    "import structlog\n",
    "log = structlog.get_logger()"
   ]
  },
  {
   "cell_type": "code",
   "execution_count": 20,
   "id": "b146a599",
   "metadata": {},
   "outputs": [
    {
     "name": "stdout",
     "output_type": "stream",
     "text": [
      "2025-08-05 13:54:12 [info     ] user Uploaded a file           filname=Report.pdf user_id=123\n"
     ]
    }
   ],
   "source": [
    "log.info(\"user Uploaded a file\",user_id= 123,filname= \"Report.pdf\")"
   ]
  },
  {
   "cell_type": "code",
   "execution_count": null,
   "id": "1eb6fbe2",
   "metadata": {},
   "outputs": [],
   "source": []
  }
 ],
 "metadata": {
  "kernelspec": {
   "display_name": "Python 3",
   "language": "python",
   "name": "python3"
  },
  "language_info": {
   "codemirror_mode": {
    "name": "ipython",
    "version": 3
   },
   "file_extension": ".py",
   "mimetype": "text/x-python",
   "name": "python",
   "nbconvert_exporter": "python",
   "pygments_lexer": "ipython3",
   "version": "3.10.18"
  }
 },
 "nbformat": 4,
 "nbformat_minor": 5
}
